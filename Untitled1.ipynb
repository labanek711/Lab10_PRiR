!apt-get --purge remove cuda nvidia* libnvidia-*
!dpkg -l | grep cuda- | awk '{print $2}' | xargs -n1 dpkg --purge
!apt-get remove cuda-*
!apt autoremove
!apt-get update

!wget https://developer.nvidia.com/compute/cuda/9.2/Prod/local_installers/cuda-repo-ubuntu1604-9-2-local_9.2.88-1_amd64 -O cuda-repo-ubuntu1604-9-2-local_9.2.88-1_amd64.deb
!dpkg -i cuda-repo-ubuntu1604-9-2-local_9.2.88-1_amd64.deb
!apt-key add /var/cuda-repo-9-2-local/7fa2af80.pub
!apt-get update
!apt-get install cuda-9.2

!pip install git+git://github.com/andreinechaev/nvcc4jupyter.git

%load_ext nvcc_plugin

%%cu
#include "cuda_runtime.h"
#include "device_launch_parameters.h"


#include<stdio.h>
#include<time.h>
#include <iostream>

#define gpuErrchk(ans) { gpuAssert((ans), __FILE__, __LINE__); }

using namespace std;

__device__ double func2(double x)
{
    return x * (x - 6) + 2;
}

long double func(double x)
{
		return x * (x - 6) + 2;
}

double func3(double x)
{
		return x * (x - 6) + 2;
}

double cpu_funkcja_trapezow(int n, double *x, double h)
{
    double suma = 0;
    for(int i = 0; i < n; i++)
    {
        double temp = func(*(x + i)) + func(*(x + i + 1));
        suma = suma + (temp/2) * (double)(h);
    }
    return suma;
}

__global__ void gpu_funkcjaTrapezow(int n, double *gpu_x, double h, double *wynik1)
{
    int i = threadIdx.x;
    if(i < n)
    {
        double temp = func2(*(gpu_x + i)) + func2(*(gpu_x + i + 1));
        *(wynik1 + i) = (temp/2) * (double)(h);
    }
}

__global__ void gpu_funkcjaProstokatow(int n, double *gpu_x, double h, double *wynik2)
{
    int i = threadIdx.x;
    if(i < n)
    {
        *(wynik2 + i) = func2(*(gpu_x + i)) * h;
    }
}

double cpu_funkcja_prostokatow(int n, double *x, double h)
{
    double suma = 0;
    for(int i = 0; i < n; i++)
    {
        suma = suma + func(*(x + i)) * h;
    }
    return suma;
}

double cpu_funkcja_simpsona(double f(double x),double a, double b, int n)
{
  double h, integral, x, sum = 0;
  int i;
  h = fabs(b - a) / n;
  for(i = 1; i < n; i++)
  {
    x = a + i * h;
    if(i%2 == 0)
    {
      sum = sum + 2 * f(x);
    }
    else
    {
      sum = sum + 4 * f(x);
    }
  }
  integral = (h / 3) * (func3(a) + func3(b) + sum);
  return integral;
}

inline void gpuAssert(cudaError_t code, const char *file, int line, bool abort=true)
{
   if (code != cudaSuccess) 
   {
      fprintf(stderr,"GPUassert: %s %s %d\n", cudaGetErrorString(code), file, line);
      if (abort) exit(code);
   }
}


int main()
{
    cudaError_t status;
 
    clock_t start, end;
    double *a, *b;
    a = (double*) malloc(sizeof(double));
    b = (double*) malloc(sizeof(double));
 
    int n = 50; // liczba podzialow
    *a = 3;
    *b =9;
 
    double h = ((*b) - (*a)) / (double)(n);
    double *x = (double*) malloc((n+1) * sizeof(double));
 
    printf("Trapezów:\n");

    *x = *a;
    *(x + n) = *b;
 
    for(int i = 1; i < n; i++)
		{
		    double temp = (double)(i) / (double)(n);
        *(x + i) = *a + (temp * (*b - *a));
		}

    start = clock(); 
    double suma1 = cpu_funkcja_trapezow(n, x, h);
    end = clock();
    double cpu = ((double)(end-start))/CLOCKS_PER_SEC; 
    printf("CPU: %lfs\n", cpu);
    
    start = clock();
    double *gpu_x, *wynik;
    cudaMalloc((void **)&gpu_x, (n + 1) * sizeof(double));
    cudaMalloc((void **)&wynik, (n + 1) * sizeof(double));
    double *wynikgpu = (double*) malloc((n+1) * sizeof(double));
    status = cudaMemcpy(gpu_x, x, (n + 1) * sizeof(double), cudaMemcpyHostToDevice);
    if (status != cudaSuccess){
        cout << cudaGetErrorString(status) << endl;
    };
    gpu_funkcjaTrapezow<<<1, n>>>(n, gpu_x, h, wynik);
    gpuErrchk(cudaPeekAtLastError());
    gpuErrchk(cudaDeviceSynchronize());
    status = cudaMemcpy (wynikgpu, wynik, (n + 1) * sizeof(double), cudaMemcpyDeviceToHost);
    if (status != cudaSuccess){
        cout << cudaGetErrorString(status) << endl;
    };
 
    status = cudaFree(gpu_x); if (status != cudaSuccess){cout << cudaGetErrorString(status) << endl;  };
    status = cudaFree(wynik); if (status != cudaSuccess){cout << cudaGetErrorString(status) << endl; };
    
    end = clock();
    double gpu = ((double)(end-start))/CLOCKS_PER_SEC; 
    printf("GPU: %lfs\n", gpu);
    double suma = 0;
    for(int i = 0; i < n; i++)
		{
       suma = suma + *(wynikgpu + i);
		}

    free(wynikgpu);
 
    printf("\nProstokątów: \n");
    start = clock();

    double sumacpu = cpu_funkcja_prostokatow(n, x, h);

    end = clock();

    double cpu2 = ((double)(end-start))/CLOCKS_PER_SEC; 
    printf("CPU: %lfs\n", cpu2);

    start = clock();
    double *gpu_x2, *wynik2;
    cudaMalloc((void **)&gpu_x2, (n + 1) * sizeof(double));
    cudaMalloc((void **)&wynik2, (n + 1) * sizeof(double));
    double *gpu_score2 = (double*) malloc((n+1) * sizeof(double));
    status = cudaMemcpy(gpu_x2, x, (n + 1) * sizeof(double), cudaMemcpyHostToDevice);
    if (status != cudaSuccess)
    {
        cout << cudaGetErrorString(status) << endl;
    };

    gpu_funkcjaProstokatow<<<1, n>>>(n, gpu_x2, h, wynik2);
    gpuErrchk(cudaPeekAtLastError());
    gpuErrchk(cudaDeviceSynchronize());
    status = cudaMemcpy (gpu_score2, wynik2, (n + 1) * sizeof(double), cudaMemcpyDeviceToHost);
    if (status != cudaSuccess)
    {
        cout << cudaGetErrorString(status) << endl;
    };
 

    status = cudaFree(gpu_x2);
    if (status != cudaSuccess)
    {
        cout << cudaGetErrorString(status) << endl;
    };
    
    status = cudaFree(wynik2);
    if (status != cudaSuccess)
    {
        cout << cudaGetErrorString(status) << endl;
    };
    
    end = clock();

    double sum2 = 0;
    for(int i = 0; i < n; i++)
		{
       sum2 = sum2 + *(gpu_score2 + i);
		}
    free(gpu_score2);
    double gpu2 = ((double)(end-start))/CLOCKS_PER_SEC; 
    printf("GPU: %lfs\n", gpu2);
 

    printf("\nSimpsona: \n");

    start = clock(); 
    double sum3 = cpu_funkcja_simpsona(func3, 2, 8, n);
    end = clock();

    double cpu3 = ((double)(end-start))/CLOCKS_PER_SEC; 
    printf("CPU: %lfs\n", cpu3);


    start = clock();
    double *gpu_x4, *wynik4;
    cudaMalloc((void **)&gpu_x4, (n + 1) * sizeof(double));
    cudaMalloc((void **)&wynik4, (n + 1) * sizeof(double));
    double *gpu_score4 = (double*) malloc((n+1) * sizeof(double));
    status = cudaMemcpy(gpu_x4, x, (n + 1) * sizeof(double), cudaMemcpyHostToDevice);
    if (status != cudaSuccess)
    {
        cout << cudaGetErrorString(status) << endl;
    };

    gpu_funkcjaProstokatow<<<1, n>>>(n, gpu_x4, h, wynik4);
    gpuErrchk(cudaPeekAtLastError());
    gpuErrchk(cudaDeviceSynchronize());
    status = cudaMemcpy (gpu_score4, wynik4, (n + 1) * sizeof(double), cudaMemcpyDeviceToHost);
    if (status != cudaSuccess)
    {
        cout << cudaGetErrorString(status) << endl;
    };
 

    status = cudaFree(gpu_x4);
    if (status != cudaSuccess)
    {
        cout << cudaGetErrorString(status) << endl;
    };
    
    status = cudaFree(wynik4);
    if (status != cudaSuccess)
    {
        cout << cudaGetErrorString(status) << endl;
    };
    
    

    double sum4 = 0;
    for(int i = 0; i < n; i++)
		{
       sum4 = sum4 + *(gpu_score4 + i);
		}
 
    end = clock();

    free(gpu_score4);
    double gpu4 = ((double)(end-start))/CLOCKS_PER_SEC; 
    printf("GPU: %lfs\n", gpu4);

    return 0;
}
